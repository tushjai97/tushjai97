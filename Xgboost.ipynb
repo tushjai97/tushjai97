{
  "nbformat": 4,
  "nbformat_minor": 0,
  "metadata": {
    "colab": {
      "provenance": [],
      "authorship_tag": "ABX9TyOmdOM1725uYoWC5J+wrZrV",
      "include_colab_link": true
    },
    "kernelspec": {
      "name": "python3",
      "display_name": "Python 3"
    },
    "language_info": {
      "name": "python"
    }
  },
  "cells": [
    {
      "cell_type": "markdown",
      "metadata": {
        "id": "view-in-github",
        "colab_type": "text"
      },
      "source": [
        "<a href=\"https://colab.research.google.com/github/tushjai97/tushjai97/blob/main/Xgboost.ipynb\" target=\"_parent\"><img src=\"https://colab.research.google.com/assets/colab-badge.svg\" alt=\"Open In Colab\"/></a>"
      ]
    },
    {
      "cell_type": "code",
      "execution_count": 8,
      "metadata": {
        "colab": {
          "base_uri": "https://localhost:8080/"
        },
        "id": "L4hu0u9wVkf0",
        "outputId": "f4678360-d983-4d46-f2ab-319e89f28933"
      },
      "outputs": [
        {
          "output_type": "stream",
          "name": "stdout",
          "text": [
            "[[84  3]\n",
            " [ 1 49]]\n",
            "0.9708029197080292\n",
            "Accuracy: {:2f}% 96.34006734006734\n",
            "Standard Deviation:2.447144%\n"
          ]
        }
      ],
      "source": [
        "import numpy as np\n",
        "import pandas as pd\n",
        "import matplotlib.pyplot as plt\n",
        "\n",
        "dataset = pd.read_csv(\"Data.csv\")\n",
        "x = dataset.iloc[ : ,1:-1].values\n",
        "y = dataset.iloc[ : , -1].values\n",
        "\n",
        "from sklearn.model_selection import train_test_split\n",
        "x_train,x_test,y_train,y_test = train_test_split(x,y, test_size = 0.2,random_state =0)\n",
        "\n",
        "from xgboost import XGBClassifier\n",
        "classifier = XGBClassifier()\n",
        "classifier.fit(x_train,y_train)\n",
        "\n",
        "from sklearn.metrics import confusion_matrix, accuracy_score\n",
        "y_predict = classifier.predict(x_test)\n",
        "cm = confusion_matrix(y_test,y_predict)\n",
        "print(cm)\n",
        "print(accuracy_score(y_test,y_predict))\n",
        "\n",
        "from sklearn.model_selection import cross_val_score\n",
        "accuracies = cross_val_score(estimator = classifier, X=x_train,y = y_train, cv=10)\n",
        "print(\"Accuracy: {:2f}%\",format(accuracies.mean()*100))\n",
        "print(\"Standard Deviation:{:2f}%\".format(accuracies.std()*100))\n",
        "\n",
        "\n",
        "\n",
        "\n"
      ]
    }
  ]
}